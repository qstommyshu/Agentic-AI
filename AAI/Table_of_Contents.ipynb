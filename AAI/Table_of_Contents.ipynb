{
 "cells": [
  {
   "cell_type": "markdown",
   "metadata": {},
   "source": [
    "<br>\n",
    "<a href=\"https://www.nvidia.com/en-us/training/\">\n",
    "    <div style=\"width: 55%; background-color: white; margin-top: 50px;\">\n",
    "    <img src=\"https://dli-lms.s3.amazonaws.com/assets/general/nvidia-logo.png\"\n",
    "         width=\"400\"\n",
    "         height=\"186\"\n",
    "         style=\"margin: 0px -25px -5px; width: 300px\"/>\n",
    "</a>\n",
    "<h1 style=\"line-height: 1.4;\"><font color=\"#76b900\"><b>Building Agentic AI Applications with LLMs</b></h1>\n",
    "<h2><b>Table of Contents</b></h2>\n",
    "<br>"
   ]
  },
  {
   "cell_type": "markdown",
   "metadata": {},
   "source": [
    "### **Welcome to the course!** \n",
    "\n",
    "Please navigate through the notebooks and feel free to explore other other components as something peaks your interest.\n",
    "\n",
    "#### **Microservices:**\n",
    "- **`./composer`**: The spinup routine used to construct the environment. Can technically be used to replicate environment (advanced use-case).\n",
    "- **`./docker-router`**: A helper microservice (for advanced use/TA help). Also used to facilitate assessment.\n",
    "- **`./nim-llm`**: NIM instance for Llama-3.1-8b-Instruct specifically.\n",
    "- **`./lg_viz`**: Super-lightweight metadata plotted that can tie with LangGraph.\n",
    "- ..."
   ]
  },
  {
   "cell_type": "markdown",
   "metadata": {},
   "source": [
    "<br>\n",
    "\n",
    "## Using Docker-Router"
   ]
  },
  {
   "cell_type": "code",
   "execution_count": null,
   "metadata": {},
   "outputs": [],
   "source": [
    "import requests\n",
    "\n",
    "for entry in requests.get(\"http://docker_router:8070/containers\").json():\n",
    "    if entry.get(\"status\") == 'running':\n",
    "        print(entry.get(\"name\"))"
   ]
  },
  {
   "cell_type": "code",
   "execution_count": null,
   "metadata": {},
   "outputs": [],
   "source": [
    "service_name = \"nim-llm\"  ## Which microservice to look at\n",
    "# from_idx = -4000           ## - to see truncated output\n",
    "from_idx = 0             ## - to see full output\n",
    "print(requests.get(f\"http://docker_router:8070/containers/{service_name}/logs\").json()[\"logs\"][from_idx:])"
   ]
  },
  {
   "cell_type": "code",
   "execution_count": null,
   "metadata": {},
   "outputs": [],
   "source": [
    "# !curl -v http://nim-llm:8000/v1/models\n",
    "import requests\n",
    "\n",
    "# requests.get(\"http://nim-ranking:8000/v1/models\").json()\n",
    "# requests.get(\"http://nim-embedding:8000/v1/models\").json()\n",
    "# requests.get(\"http://nim-llm:8000/v1/models\").json()"
   ]
  },
  {
   "cell_type": "markdown",
   "metadata": {},
   "source": [
    "<center><a href=\"https://www.nvidia.com/dli\"> <img src=\"https://dli-lms.s3.amazonaws.com/assets/general/DLI_Header_White.png\" alt=\"Header\" style=\"width: 400px;\"/> </a></center>"
   ]
  }
 ],
 "metadata": {
  "kernelspec": {
   "display_name": "Python 3 (ipykernel)",
   "language": "python",
   "name": "python3"
  },
  "language_info": {
   "codemirror_mode": {
    "name": "ipython",
    "version": 3
   },
   "file_extension": ".py",
   "mimetype": "text/x-python",
   "name": "python",
   "nbconvert_exporter": "python",
   "pygments_lexer": "ipython3",
   "version": "3.11.11"
  }
 },
 "nbformat": 4,
 "nbformat_minor": 4
}
