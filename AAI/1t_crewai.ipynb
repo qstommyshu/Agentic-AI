{
 "cells": [
  {
   "cell_type": "markdown",
   "id": "b15cc6e9-d8d5-4d6c-918a-10deb9ee1c47",
   "metadata": {},
   "source": [
    "<br>\n",
    "<a href=\"https://www.nvidia.com/en-us/training/\">\n",
    "    <div style=\"width: 55%; background-color: white; margin-top: 50px;\">\n",
    "    <img src=\"https://dli-lms.s3.amazonaws.com/assets/general/nvidia-logo.png\"\n",
    "         width=\"400\"\n",
    "         height=\"186\"\n",
    "         style=\"margin: 0px -25px -5px; width: 300px\"/>\n",
    "</a>\n",
    "<h1 style=\"line-height: 1.4;\"><font color=\"#76b900\"><b>Building Agentic AI Applications with LLMs</h1>\n",
    "<h2><b>Tangent 1:</b> Trying Out CrewAI</h2>\n",
    "<br>\n"
   ]
  },
  {
   "cell_type": "markdown",
   "id": "3abec3bc-9500-42e0-94d5-7766615cb605",
   "metadata": {},
   "source": [
    "**This is the first of several tangents** in which we will talk about something that is important to know about, but will not be focused on much in this course. Consider why we're not focusing on this material, but try to appreciate it as an on-ramp to something you're likely to run into going forward.\n",
    "\n",
    "In notebook 1a, we actually defined our own tiny agent system, if only to properly allow two or more non-human agents a chance to talk to each other in a reasonable fashion. In this notebook, we will briefly look at an agent framework that is especially popular and useful for modeling persona-based agents, and is quite easy to set up for this problem: [**CrewAI**](https://www.crewai.com/open-source)!\n",
    "\n",
    "### **Learning Objectives:**\n",
    "\n",
    "**In this notebook, we will:**\n",
    "\n",
    "- Learn a bit about pre-built agent frameworks that implements our earlier abstractions with a spin and more coverage.\n",
    "- Investigate CrewAI specifically and consider how we can replicate our previous teacher-student dialog."
   ]
  },
  {
   "cell_type": "markdown",
   "id": "44eee39c-e2e7-4010-9d3c-70c69556669c",
   "metadata": {},
   "source": [
    "<hr><br>\n",
    "\n",
    "### Defining An Agent Framework\n",
    "\n",
    "Whether you fully appreciate it or not, both of the systems demonstrated in notebook 1a were, in fact, **agent systems**. They were software systems where at least one software component semantically percieved the environment and responded to the best of their ability to satisfy a vague objective.\n",
    "- The basic chat loop was literally just a loop that sampled responses from the LLM and the user in a loop. The environment is the message bus, the agents are you and the LLM, and the process was represented by the responses flowing between the agents.\n",
    "- The local-perspective systems, also defined in a loop, were very similar but had better support for modeling multiple destinct personas. They mapped from some global state system into something the LLM was suited to handle, and mapped back up to the global state in the same manner.\n",
    "\n",
    "We were technically relying on the LangChain software stack to connect to our model below a plethora of abstractions, but we really were just using some simple primitives to make our agent systems work. The real interesting parts involved the organization of these primitives to create synergized components that made it easy for our agents - or even humans - to communicate appropriately. \n",
    "\n",
    "**In this notebook, we will briefly introduce CrewAI as a potential framework of interest.** Though the course will not use CrewAI much - and we will explain why shortly - it is important to understand:\n",
    "- What CrewAI is.\n",
    "- What problems CrewAI solves.\n",
    "- Why might people choose to use it."
   ]
  },
  {
   "cell_type": "markdown",
   "id": "e918d76d-0efb-41c3-b4e8-7353c0d59dcc",
   "metadata": {},
   "source": [
    "<br>\n",
    "\n",
    "## **What is CrewAI?**\n",
    "\n",
    "The following is a direct exerpt from the [**Official CrewAI Documentation**](https://docs.crewai.com/introduction) (sampled 2/21/2025):\n",
    "\n",
    "<img src=\"images/crewai-purpose.png\" style=\"width: 800px\"/>\n",
    "\n",
    "<!-- > **CrewAI is a cutting-edge framework for orchestrating autonomous AI agents.**\n",
    "> \n",
    "> CrewAI enables you to create AI teams where each agent has specific roles, tools, and goals, working together to accomplish complex tasks.\n",
    ">\n",
    "> Think of it as assembling your dream team - each member (agent) brings unique skills and expertise, collaborating seamlessly to achieve your objectives. -->\n",
    "\n",
    "As advertised, **CrewAI** is a well-built and general-purpose multi-agent framework, which roughly means it has:\n",
    "- A mechanism for communication that it enforces.\n",
    "- Some core workflows that it advertises to streamline.\n",
    "- Some primitives defined to make those workflows easy to execute on.\n",
    "- Paths towards productionalization for multi-tenant and concurrent execution. (*more on that later*)\n",
    "\n",
    "In the section below, we will take advantage of some of its built-in primitives and investigate how this system operates and consider when we might use it.\n",
    "\n",
    "#### **The CrewAI Mind Map**\n",
    "\n",
    "Like all frameworks, CrewAI enforces some opinions about how an agent system should be structured/which kinds it best supports as first-class abstractions. Here is the latest version of their working mind-map for those taking a first-look at this framework.\n",
    "\n",
    "<img src=\"images/crewai-mindmap.png\" style=\"width: 800px\"/>\n",
    "\n",
    "Whenever you see something like this, understand that this is **a potential way** to think about the agent abstractions. Every potential option has its pros and cons, and there is a reason why we think it's important to advocate for CrewAI while also not teach explicitly to a specific option.\n",
    "\n",
    "To be clear, their abstractions are more than enough to execute on the processes covered in the scope of this course, and we encourage you to try it out for yourself with more involved use-cases after the class!"
   ]
  },
  {
   "cell_type": "markdown",
   "id": "fff07368-a82e-4086-b83b-d5763e0a81ce",
   "metadata": {},
   "source": [
    "#### **Defining Our LLM Client**\n",
    "\n",
    "Though CrewAI and LangChain do have some shared integrations and compatability layers, CrewAI out-of-the-box likes to follow its own definition of the LLM client which is different from LangChain's. \n",
    "\n",
    "At the end of the day, they both do roughly the same things but implement different interfaces for the two frameworks to use. Obligatorily, we will then need to construct our interface a bit differently:"
   ]
  },
  {
   "cell_type": "code",
   "execution_count": null,
   "id": "dcfa479d-a4eb-427f-89b5-08ea7f3f6dfc",
   "metadata": {},
   "outputs": [],
   "source": [
    "from crewai import LLM\n",
    "\n",
    "llm = LLM(\n",
    "    model=\"nvidia_nim/meta/llama-3.1-8b-instruct\",   ## Provider Class / Model Published / Model Name\n",
    "    base_url=\"http://nim-llm:8000/v1\",               ## Url to send your request to (ChatNVIDIA accepts env variable)\n",
    "    temperature=0.7,\n",
    "    api_key=\"PLACEHOLDER\",                           ## API key is required by default.\n",
    ")\n",
    "\n",
    "llm.call(messages=[{\"role\": \"user\", \"content\": \"What is the capital of France?\"}])  ## Call, not \"invoke\""
   ]
  },
  {
   "cell_type": "markdown",
   "id": "0545a7f9-d529-4a36-951e-6157b082b604",
   "metadata": {},
   "source": [
    "#### **Defining Our \"Chain Primitives\"**\n",
    "\n",
    "In LangChain, the runnables interface allows us to trivially chain multiple components together to chain buffers and/or simple invocations. Recall the ubiquitous `prompt | llm | StrOutputParser()` chain, and note that we will explore more interesting byproducts of these abstractions later. \n",
    "\n",
    "In CrewAI, many of their core primitives are more purpose-built to represent very specific mechanisms which interact with the agentic communication buffer in very well-defined ways. For example, the following cells show a typical construction of a minimal CrewAI `Crew`, or agent pool that work towards an objective:\n",
    "\n",
    "> You can define one or more CrewAI [**`Agents`**](https://docs.crewai.com/concepts/agents), which are persona-based agents that communicates with other Agents. Combined with the `Prompts` utility abstraction, the `task_execution()` method gives you a base prompt for the agent (which can be added to by other mechanisms later).\n",
    "> \n",
    "> In contrast, the [**`Task`**](https://docs.crewai.com/concepts/tasks) abstraction specifies actual directives for your agents to execute on. This requires a different set of arguments, encapsulates `Agent` entities to communicate which ones can work on the process, and computes an appropriate prompt component via the `.prompt()` method.\n",
    "> \n",
    "> And to top it off, the [**`Crew`**](https://docs.crewai.com/concepts/crews) abstraction contains both `Task`s and `Agent`s, and allows them to communicate (via a `Process` class) in a sequential or hierarchical manner to achieve the list of `Tasks`.\n",
    "\n",
    "**Said more plainly, the CrewAI abstraction has you:**\n",
    "- **Defining agents** that have personas, backgrounds, and generic goals.\n",
    "- **Defining tasks** that can be executed by a subset of agents in some manner.\n",
    "- **Defining crews** of agents that work on groups of tasks with various witness mechanisms.\n",
    "\n",
    "And this leads to control flow decisions and prompt injections that end up reaching your LLM endpoint, and the resulting responses help to guide both the conversational and executional environments.\n",
    "\n",
    "### Seeing Some Code\n",
    "\n",
    "We've discussed the typical CrewAI workflow, so let's see how that maps to actual code:"
   ]
  },
  {
   "cell_type": "code",
   "execution_count": null,
   "id": "6e4e25a4-4b7d-4c0c-90f1-e01c3b22ff18",
   "metadata": {},
   "outputs": [],
   "source": [
    "from crewai import Agent\n",
    "from crewai.utilities import Prompts\n",
    "\n",
    "## - You can define one or more CrewAI `Agent`s, which are persona-based agents that communicates with other Agents.\n",
    "##     - Combined with the `Prompts` utility abstraction, the `task_execution()` method gives you a base prompt for the agent \n",
    "##       (which can be added to by other mechanisms later).\n",
    "\n",
    "## https://docs.crewai.com/concepts/agents#direct-code-definition\n",
    "\n",
    "teacher_agent = Agent(\n",
    "    role='Teacher',\n",
    "    goal=\"Help students with concerns and make sure they are learning their material well.\",\n",
    "    backstory=(\n",
    "        \"You are a computer science teacher in high school holding office hours, and you have a meeting.\"\n",
    "        \" This is the middle of the semester, and various students have various discussion topics across your classes.\"\n",
    "        \" You are having a meeting right now. Please engage with the student.\"\n",
    "    ),\n",
    "    verbose=True,     ## Enable detailed execution logs for debugging\n",
    "    memory=True,\n",
    "    llm=llm,\n",
    ")\n",
    "\n",
    "student_agent = Agent(\n",
    "    role='Student',\n",
    "    goal=\"Be a good student while also maintaining personal interests and a healthy social life.\",\n",
    "    backstory=(\n",
    "        \"You are taking Dr. John's intro to algorithms course and are struggling with some of the homework problems.\"\n",
    "    ),\n",
    "    verbose=True,     ## Enable detailed execution logs for debugging\n",
    "    memory=True,\n",
    "    llm=llm,\n",
    ")\n",
    "\n",
    "print(Prompts(agent=teacher_agent).task_execution())\n",
    "print(\"*\" * 64)\n",
    "print(Prompts(agent=student_agent).task_execution()[\"prompt\"])"
   ]
  },
  {
   "cell_type": "markdown",
   "id": "0dc8f6b8-8a34-4f97-bf04-d2414dbe4bc5",
   "metadata": {},
   "source": [
    "This example uses the default prompt template with language that can be found [here](https://github.com/crewAIInc/crewAI/blob/main/src/crewai/translations/en.json). The prompt can be customized to achieve specific behaviors. "
   ]
  },
  {
   "cell_type": "code",
   "execution_count": null,
   "id": "f9e6412a-71ee-41f8-a13a-7d9ee62313a4",
   "metadata": {},
   "outputs": [],
   "source": [
    "from crewai import Task\n",
    "\n",
    "## - In contrast, the `Task` abstraction specifies actual directives for your agents to execute on.\n",
    "##     - This requires a different set of arguments, encapsulates `Agent` entities to communicate which ones can work\n",
    "##       on the process, and computes an appropriate prompt component via the `.prompt()` method.\n",
    "\n",
    "## https://docs.crewai.com/concepts/tasks#direct-code-definition-alternative\n",
    "\n",
    "teacher_task = Task(\n",
    "    description=\"Engage in dialog to help the student out.\",\n",
    "    expected_output=\"Conversational output that is supportive and helpful.\",\n",
    "    agent=teacher_agent,\n",
    "    async_execution=False,\n",
    "    # human_input=True,     ## Human-in-the-loop mechanism to correct the agent responses \n",
    ")\n",
    "\n",
    "student_task = Task(\n",
    "    description=\"Meet with your teacher to help you understand class material.\",\n",
    "    expected_output=\"Conversational responses\",\n",
    "    agent=student_agent,\n",
    "    async_execution=False,\n",
    "    # human_input=True,     ## Human-in-the-loop mechanism to correct the agent responses \n",
    ")\n",
    "\n",
    "teacher_task.prompt()"
   ]
  },
  {
   "cell_type": "markdown",
   "id": "5e982091-63e6-4ee2-bc3d-5c44361a7419",
   "metadata": {},
   "source": [
    "`Agent`s and `Task`s can also be initialized with `tools`, which we will discuss more later. "
   ]
  },
  {
   "cell_type": "code",
   "execution_count": null,
   "id": "db6d5d00-34a1-4ac3-afc3-0a7c77959421",
   "metadata": {},
   "outputs": [],
   "source": [
    "from crewai import Crew, Process\n",
    "\n",
    "## - And to top it off, the `Crew` abstraction contains both `Task`s and `Agent`s, and allows them to communicate \n",
    "##   (via a `Process` class) in a sequential or hierarchical manner to achieve the list of `Tasks`.\n",
    "\n",
    "chatbot_crew = Crew(\n",
    "    ## Shift state between teacher and student 4 times (i.e. t->s->t->s->...->s)\n",
    "    agents=[teacher_agent, student_agent] * 4,\n",
    "    tasks=[teacher_task, student_task] * 4,\n",
    "    process=Process.sequential,     ## By default, tasks in CrewAI are managed through a sequential process. However,\n",
    "                                    ##  adopting a hierarchical approach allows for a clear hierarchy in task management,\n",
    "                                    ##  where a ‘manager’ agent coordinates the workflow, delegates tasks, and validates\n",
    "                                    ##  outcomes for streamlined and effective execution. Configuring the manager_llm\n",
    "                                    ##  parameter is crucial for the hierarchical process. \n",
    "    verbose=True,\n",
    ")"
   ]
  },
  {
   "cell_type": "code",
   "execution_count": null,
   "id": "af0eac43-8a82-4d18-ace6-2511c779b258",
   "metadata": {},
   "outputs": [],
   "source": [
    "## Kick off the routine. If there are any {var}s in an agent/task prompt, you can specify inputs={'var': value, ...}\n",
    "chatbot_crew.kickoff()"
   ]
  },
  {
   "cell_type": "markdown",
   "id": "d2cc13e9-2526-4498-bb77-5ae293ed9ccb",
   "metadata": {},
   "source": [
    "<hr><br>\n",
    "\n",
    "### **Reflextion:** Is This Better Than LangChain?\n",
    "\n",
    "***Sometimes yes, sometimes no!***\n",
    "- For general LLM engineering, **the primitives offered by LangChain are much more flexible.** There are many modules and compatability layers outside of what this course will cover, and they can be used to make near-arbitrary data pipelines with great hidden properties that help with end-game productization.\n",
    "- For agent applications that leverage persona-based systems, **CrewAI is likely the easiest entrypoint when you want to deploy groups of easy-to-specify agents.** You can already see that there is a lot of baked-in assumptions, and checking the parameter list will reveal various customization options which help to alleviate the pain of system specification and a decent bit of boilerplate.\n",
    "- For more custom applications that require more involved state management systems, **LangGraph is another great option which we will take advantage of later.** This framework makes it easy to go deep into customization land while still sticking to the core abstraction, but it also generally requires a better understanding of agent system design and therefore has a higher learning curve. \n",
    "\n",
    "From an entry-point into agents perspective, it could be argued that the CrewAI framework is easier to get started with, since it pidgeonholes you into some specific workflow paradigms. All of these paradigms COULD be made with the primitive components offered by LangChain OR LangGraph, but there's significant value in an opinionated framework that makes the hard decisions for you and just lets you tap into the abstraction without too much trouble. For this reason, we will try to point out to **CrewAI** example solutions when we see it helping with the course narrative."
   ]
  },
  {
   "cell_type": "markdown",
   "id": "f4232cba-cd9b-4f94-babc-f2200b222636",
   "metadata": {},
   "source": [
    "<br>\n",
    "<a href=\"https://www.nvidia.com/en-us/training/\">\n",
    "    <div style=\"width: 55%; background-color: white; margin-top: 50px;\">\n",
    "    <img src=\"https://dli-lms.s3.amazonaws.com/assets/general/nvidia-logo.png\"\n",
    "         width=\"400\"\n",
    "         height=\"186\"\n",
    "         style=\"margin: 0px -25px -5px; width: 300px\"/>"
   ]
  }
 ],
 "metadata": {
  "kernelspec": {
   "display_name": "Python 3 (ipykernel)",
   "language": "python",
   "name": "python3"
  },
  "language_info": {
   "codemirror_mode": {
    "name": "ipython",
    "version": 3
   },
   "file_extension": ".py",
   "mimetype": "text/x-python",
   "name": "python",
   "nbconvert_exporter": "python",
   "pygments_lexer": "ipython3",
   "version": "3.11.11"
  }
 },
 "nbformat": 4,
 "nbformat_minor": 5
}
