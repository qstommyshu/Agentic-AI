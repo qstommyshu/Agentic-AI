{
 "cells": [
  {
   "cell_type": "markdown",
   "id": "fc6ce48b-9183-4720-b11c-040a4055c58a",
   "metadata": {},
   "source": [
    "<center><a href=\"https://www.nvidia.com/en-us/training/\"><img src=\"https://dli-lms.s3.amazonaws.com/assets/general/DLI_Header_White.png\" width=\"400\" height=\"186\" /></a></center>"
   ]
  },
  {
   "attachments": {},
   "cell_type": "markdown",
   "id": "30a75afd-8c49-4b0d-b0cb-5b8189197f7c",
   "metadata": {},
   "source": [
    "# **Notebook 98:** Launching Your vLLM Servers\n",
    "\n",
    "Please run the following command to kickstart a vLLM OpenAI-style server running a local Visual Language Model (in this case, [**Microsoft's Phi-3.5-vision-instruct model**](https://huggingface.co/microsoft/Phi-3.5-vision-instruct)). This model was selected because we found that it was easy to use, relatively fast, able to read, and available as a NIM on [**build.nvidia.com**](https://build.nvidia.com/microsoft/phi-3-vision-128k-instruct).\n",
    "\n",
    "This process will commandeer the Jupyter event loop and will render this notebook blocked, but feel free to test the endpoint out in a different notebook."
   ]
  },
  {
   "cell_type": "code",
   "execution_count": null,
   "id": "bc1eaca0-8d05-4f39-b28d-bcb7b8ff1c76",
   "metadata": {
    "scrolled": true
   },
   "outputs": [],
   "source": [
    "# !vllm serve microsoft/Phi-3.5-vision-128k-instruct \\\n",
    "\n",
    "!vllm serve microsoft/phi-3.5-vision-instruct  \\\n",
    "    --trust-remote-code \\\n",
    "    --max_model_len 16384 \\\n",
    "    --gpu-memory-utilization 0.8 \\\n",
    "    --enforce-eager \\\n",
    "    --port 9000\n",
    "    # --chat-template ./phi3.jinja \\\n",
    "\n",
    "## NOTE: \n",
    "# - trust-remote-code enabled because this model incorporates some custom code modules not found in basic huggingface transformers\n",
    "# - max-model-len set to ~16K since KV-cache takes up space and your GPU may start to run low if it's working with other processes\n",
    "# - gpu memory capped to avoid potential conflicts with other local processes\n",
    "# - more settings for more control, streamlines abstraction with other features offered by NIM-ified version"
   ]
  },
  {
   "cell_type": "markdown",
   "id": "c188b530-fadd-482c-868f-3c993b63fb63",
   "metadata": {},
   "source": [
    "<hr>\n",
    "<br>\n",
    "\n",
    "<center><a href=\"https://www.nvidia.com/en-us/training/\"><img src=\"https://dli-lms.s3.amazonaws.com/assets/general/DLI_Header_White.png\" width=\"400\" height=\"186\" /></a></center>"
   ]
  }
 ],
 "metadata": {
  "kernelspec": {
   "display_name": "Python 3 (ipykernel)",
   "language": "python",
   "name": "python3"
  },
  "language_info": {
   "codemirror_mode": {
    "name": "ipython",
    "version": 3
   },
   "file_extension": ".py",
   "mimetype": "text/x-python",
   "name": "python",
   "nbconvert_exporter": "python",
   "pygments_lexer": "ipython3",
   "version": "3.10.12"
  }
 },
 "nbformat": 4,
 "nbformat_minor": 5
}
